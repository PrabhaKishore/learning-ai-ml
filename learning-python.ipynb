{
  "cells": [
    {
      "cell_type": "markdown",
      "metadata": {
        "id": "view-in-github",
        "colab_type": "text"
      },
      "source": [
        "<a href=\"https://colab.research.google.com/github/PrabhaKishore/learning-ai-ml/blob/main/learning-python.ipynb\" target=\"_parent\"><img src=\"https://colab.research.google.com/assets/colab-badge.svg\" alt=\"Open In Colab\"/></a>"
      ]
    },
    {
      "cell_type": "markdown",
      "source": [
        "Learning Python..!"
      ],
      "metadata": {
        "id": "gqQNHJ54s_Bs"
      }
    },
    {
      "cell_type": "code",
      "source": [
        "print(\"heelo python..!\")"
      ],
      "metadata": {
        "id": "gVYQ_OhqtGZk",
        "outputId": "ea057312-4950-4b22-90fc-e697f62cf034",
        "colab": {
          "base_uri": "https://localhost:8080/"
        }
      },
      "execution_count": 12,
      "outputs": [
        {
          "output_type": "stream",
          "name": "stdout",
          "text": [
            "heelo python..!\n"
          ]
        }
      ]
    },
    {
      "cell_type": "markdown",
      "source": [
        "### Python variables"
      ],
      "metadata": {
        "id": "xPdwgg59ueaX"
      }
    },
    {
      "cell_type": "code",
      "source": [
        "x = 5\n",
        "\n",
        "print(x)\n",
        "print(type(x))"
      ],
      "metadata": {
        "id": "uS7FC0vatjfV",
        "outputId": "7d24b6fb-a7be-42eb-a1e9-21d61a2a6bad",
        "colab": {
          "base_uri": "https://localhost:8080/"
        }
      },
      "execution_count": 5,
      "outputs": [
        {
          "output_type": "stream",
          "name": "stdout",
          "text": [
            "5\n",
            "<class 'int'>\n"
          ]
        }
      ]
    },
    {
      "cell_type": "code",
      "source": [
        "y = 345.908\n",
        "print(y)\n",
        "print(type(y))"
      ],
      "metadata": {
        "id": "7efUvtkytvfT",
        "outputId": "c0a5cb07-2349-4904-ae1e-77978bc73042",
        "colab": {
          "base_uri": "https://localhost:8080/"
        }
      },
      "execution_count": 6,
      "outputs": [
        {
          "output_type": "stream",
          "name": "stdout",
          "text": [
            "345.908\n",
            "<class 'float'>\n"
          ]
        }
      ]
    },
    {
      "cell_type": "code",
      "source": [
        "str = \"this is string test..!\"\n",
        "print(str)\n",
        "print(type(str))"
      ],
      "metadata": {
        "id": "A8-ikS7at2GB",
        "outputId": "0d913a2e-8519-4a55-94ce-56ad9915b624",
        "colab": {
          "base_uri": "https://localhost:8080/"
        }
      },
      "execution_count": 10,
      "outputs": [
        {
          "output_type": "stream",
          "name": "stdout",
          "text": [
            "this is string test..!\n",
            "<class 'str'>\n"
          ]
        }
      ]
    },
    {
      "cell_type": "code",
      "source": [
        "bl = True\n",
        "print(bl)\n",
        "print(type(bl))"
      ],
      "metadata": {
        "id": "fa7gqioYuIgk",
        "outputId": "13767195-b3eb-478f-c51e-dde33aca958b",
        "colab": {
          "base_uri": "https://localhost:8080/"
        }
      },
      "execution_count": 13,
      "outputs": [
        {
          "output_type": "stream",
          "name": "stdout",
          "text": [
            "True\n",
            "<class 'bool'>\n"
          ]
        }
      ]
    },
    {
      "cell_type": "code",
      "source": [
        "myList = ['apple', 'banana', 'cherry', 'date']\n",
        "print(myList[0])\n",
        "print(myList[3])\n",
        "\n",
        "print(myList[-1])\n",
        "print(myList[-3])"
      ],
      "metadata": {
        "id": "9S7QDfnOwGtp",
        "outputId": "b2b29571-25f5-4461-c5c3-1bfc76f5e5f0",
        "colab": {
          "base_uri": "https://localhost:8080/"
        }
      },
      "execution_count": 18,
      "outputs": [
        {
          "output_type": "stream",
          "name": "stdout",
          "text": [
            "apple\n",
            "date\n",
            "date\n",
            "banana\n"
          ]
        }
      ]
    },
    {
      "cell_type": "code",
      "source": [
        "numbers = [1, 2, 3, 4, 5, 6, 7, 8, 9]\n",
        "print(numbers[2:6])\n",
        "print(numbers[3:5])\n",
        "print(numbers[:5])\n",
        "print(numbers[4:])\n",
        "print(numbers[::2])\n",
        "print(numbers[::4])\n",
        "print(numbers[::-1])"
      ],
      "metadata": {
        "id": "EKNcZ8Quwcp9",
        "outputId": "bcab2570-22c6-42c4-8763-ba01eaa30d69",
        "colab": {
          "base_uri": "https://localhost:8080/"
        }
      },
      "execution_count": 26,
      "outputs": [
        {
          "output_type": "stream",
          "name": "stdout",
          "text": [
            "[3, 4, 5, 6]\n",
            "[4, 5]\n",
            "[1, 2, 3, 4, 5]\n",
            "[5, 6, 7, 8, 9]\n",
            "[1, 3, 5, 7, 9]\n",
            "[1, 5, 9]\n",
            "[9, 8, 7, 6, 5, 4, 3, 2, 1]\n"
          ]
        }
      ]
    },
    {
      "cell_type": "code",
      "source": [
        "my_tuple = (1, 2, 3, 4)\n",
        "print(my_tuple)"
      ],
      "metadata": {
        "id": "9g96usJ6x3mx",
        "outputId": "a44f51c9-9e6e-452b-c42f-564afe1cf774",
        "colab": {
          "base_uri": "https://localhost:8080/"
        }
      },
      "execution_count": 28,
      "outputs": [
        {
          "output_type": "stream",
          "name": "stdout",
          "text": [
            "(1, 2, 3, 4)\n"
          ]
        }
      ]
    },
    {
      "cell_type": "code",
      "source": [
        "print(my_tuple[2])\n",
        "# my_tuple[0] = 7 -- error"
      ],
      "metadata": {
        "id": "v3St4B4JyAI-",
        "outputId": "210ee968-2d58-4bcf-db0f-f4fd6de38864",
        "colab": {
          "base_uri": "https://localhost:8080/"
        }
      },
      "execution_count": 36,
      "outputs": [
        {
          "output_type": "stream",
          "name": "stdout",
          "text": [
            "3\n"
          ]
        }
      ]
    },
    {
      "cell_type": "code",
      "source": [
        "mutable_tuple = ([1,2], 5, 6)\n",
        "print(mutable_tuple)\n",
        "mutable_tuple[0].append(7)\n",
        "print(mutable_tuple)"
      ],
      "metadata": {
        "id": "HNHc5gdYyqpE",
        "outputId": "8b75576b-94e5-42af-edc9-f3be1c22a323",
        "colab": {
          "base_uri": "https://localhost:8080/"
        }
      },
      "execution_count": 40,
      "outputs": [
        {
          "output_type": "stream",
          "name": "stdout",
          "text": [
            "([1, 2], 5, 6)\n",
            "([1, 2, 7], 5, 6)\n"
          ]
        }
      ]
    },
    {
      "cell_type": "code",
      "source": [
        "tuple_unpack = (4,8,12,16)\n",
        "a, b, c, d = tuple_unpack\n",
        "print(f\"X : {a} Y : {b} Z: {c}\")"
      ],
      "metadata": {
        "id": "PBv7zYKLzH1K",
        "outputId": "94c42a64-1407-43d6-922c-3d194c54565b",
        "colab": {
          "base_uri": "https://localhost:8080/"
        }
      },
      "execution_count": 43,
      "outputs": [
        {
          "output_type": "stream",
          "name": "stdout",
          "text": [
            "X : 4 Y : 8 Z: 12\n"
          ]
        }
      ]
    },
    {
      "cell_type": "code",
      "source": [
        "rest_numbers = (9,5,2,8,4)\n",
        "first, *rest = rest_numbers\n",
        "print(f\"first : {first}    rest : {rest}\")"
      ],
      "metadata": {
        "id": "lK8Gzd4gz7lU",
        "outputId": "1e6badc7-4963-47f4-f294-a24fe3d85da1",
        "colab": {
          "base_uri": "https://localhost:8080/"
        }
      },
      "execution_count": 45,
      "outputs": [
        {
          "output_type": "stream",
          "name": "stdout",
          "text": [
            "first : 9    rest : [5, 2, 8, 4]\n"
          ]
        }
      ]
    },
    {
      "cell_type": "code",
      "source": [
        "rest_middle_numbers = (1,2,3,4,5,6,78)\n",
        "first, *middle, end = rest_middle_numbers\n",
        "print(f\"first : {first} middle : {middle} end : {end}\")"
      ],
      "metadata": {
        "id": "Tg4mR6g-0fvV",
        "outputId": "a8926fde-7bf2-4861-82c4-dc4ac830f412",
        "colab": {
          "base_uri": "https://localhost:8080/"
        }
      },
      "execution_count": 47,
      "outputs": [
        {
          "output_type": "stream",
          "name": "stdout",
          "text": [
            "first : 1 middle : [2, 3, 4, 5, 6] end : 78\n"
          ]
        }
      ]
    },
    {
      "cell_type": "code",
      "source": [
        "a, b = 1,2\n",
        "b, a = a, b\n",
        "print(f\"a : {a}, b : {b}\")"
      ],
      "metadata": {
        "id": "xiQbmlBs00pQ",
        "outputId": "ea2fd3aa-891b-4e89-e224-c7da6c0138ed",
        "colab": {
          "base_uri": "https://localhost:8080/"
        }
      },
      "execution_count": 48,
      "outputs": [
        {
          "output_type": "stream",
          "name": "stdout",
          "text": [
            "a : 2, b : 1\n"
          ]
        }
      ]
    }
  ],
  "metadata": {
    "colab": {
      "name": "Welcome To Colab",
      "provenance": [],
      "include_colab_link": true
    },
    "kernelspec": {
      "display_name": "Python 3",
      "name": "python3"
    }
  },
  "nbformat": 4,
  "nbformat_minor": 0
}